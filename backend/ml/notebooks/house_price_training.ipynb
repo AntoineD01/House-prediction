{
 "cells": [
  {
   "cell_type": "code",
   "execution_count": 10,
   "id": "5e010713",
   "metadata": {},
   "outputs": [],
   "source": [
    "import pandas as pd\n",
    "import xgboost as xgb\n",
    "from sklearn.model_selection import train_test_split\n",
    "from sklearn.metrics import r2_score, mean_squared_error\n",
    "import mlflow\n",
    "import mlflow.xgboost\n",
    "import dagshub\n",
    "import joblib"
   ]
  },
  {
   "cell_type": "code",
   "execution_count": 11,
   "id": "c3c6bc0e",
   "metadata": {},
   "outputs": [
    {
     "data": {
      "text/html": [
       "<pre style=\"white-space:pre;overflow-x:auto;line-height:normal;font-family:Menlo,'DejaVu Sans Mono',consolas,'Courier New',monospace\">Accessing as AntoineD01\n",
       "</pre>\n"
      ],
      "text/plain": [
       "Accessing as AntoineD01\n"
      ]
     },
     "metadata": {},
     "output_type": "display_data"
    },
    {
     "data": {
      "text/html": [
       "<pre style=\"white-space:pre;overflow-x:auto;line-height:normal;font-family:Menlo,'DejaVu Sans Mono',consolas,'Courier New',monospace\">Initialized MLflow to track repo <span style=\"color: #008000; text-decoration-color: #008000\">\"AntoineD01/House-prediction\"</span>\n",
       "</pre>\n"
      ],
      "text/plain": [
       "Initialized MLflow to track repo \u001b[32m\"AntoineD01/House-prediction\"\u001b[0m\n"
      ]
     },
     "metadata": {},
     "output_type": "display_data"
    },
    {
     "data": {
      "text/html": [
       "<pre style=\"white-space:pre;overflow-x:auto;line-height:normal;font-family:Menlo,'DejaVu Sans Mono',consolas,'Courier New',monospace\">Repository AntoineD01/House-prediction initialized!\n",
       "</pre>\n"
      ],
      "text/plain": [
       "Repository AntoineD01/House-prediction initialized!\n"
      ]
     },
     "metadata": {},
     "output_type": "display_data"
    },
    {
     "data": {
      "text/plain": [
       "<Experiment: artifact_location='mlflow-artifacts:/d44301c7c7484c8e99fc60d12f9f3860', creation_time=1751112538551, experiment_id='0', last_update_time=1751112538551, lifecycle_stage='active', name='HousePricePrediction', tags={}>"
      ]
     },
     "execution_count": 11,
     "metadata": {},
     "output_type": "execute_result"
    }
   ],
   "source": [
    "# Initialize DagsHub to log MLflow runs\n",
    "dagshub.init(repo_owner='AntoineD01', repo_name='House-prediction', mlflow=True)\n",
    "\n",
    "# Set experiment (will create if doesn't exist)\n",
    "experiment_name = \"HousePricePrediction\"\n",
    "mlflow.set_experiment(experiment_name)"
   ]
  },
  {
   "cell_type": "code",
   "execution_count": 12,
   "id": "1dcc82f3",
   "metadata": {},
   "outputs": [
    {
     "name": "stdout",
     "output_type": "stream",
     "text": [
      "Data shape: (1460, 10)\n"
     ]
    },
    {
     "data": {
      "text/html": [
       "<div>\n",
       "<style scoped>\n",
       "    .dataframe tbody tr th:only-of-type {\n",
       "        vertical-align: middle;\n",
       "    }\n",
       "\n",
       "    .dataframe tbody tr th {\n",
       "        vertical-align: top;\n",
       "    }\n",
       "\n",
       "    .dataframe thead th {\n",
       "        text-align: right;\n",
       "    }\n",
       "</style>\n",
       "<table border=\"1\" class=\"dataframe\">\n",
       "  <thead>\n",
       "    <tr style=\"text-align: right;\">\n",
       "      <th></th>\n",
       "      <th>OverallQual</th>\n",
       "      <th>GrLivArea</th>\n",
       "      <th>GarageCars</th>\n",
       "      <th>GarageArea</th>\n",
       "      <th>ExterQual</th>\n",
       "      <th>BsmtQual</th>\n",
       "      <th>KitchenQual</th>\n",
       "      <th>GarageFinish</th>\n",
       "      <th>GarageType</th>\n",
       "      <th>SalePrice</th>\n",
       "    </tr>\n",
       "  </thead>\n",
       "  <tbody>\n",
       "    <tr>\n",
       "      <th>0</th>\n",
       "      <td>7</td>\n",
       "      <td>1710</td>\n",
       "      <td>2</td>\n",
       "      <td>548</td>\n",
       "      <td>2</td>\n",
       "      <td>2</td>\n",
       "      <td>2</td>\n",
       "      <td>2</td>\n",
       "      <td>1</td>\n",
       "      <td>208500</td>\n",
       "    </tr>\n",
       "    <tr>\n",
       "      <th>1</th>\n",
       "      <td>6</td>\n",
       "      <td>1262</td>\n",
       "      <td>2</td>\n",
       "      <td>460</td>\n",
       "      <td>3</td>\n",
       "      <td>2</td>\n",
       "      <td>3</td>\n",
       "      <td>2</td>\n",
       "      <td>1</td>\n",
       "      <td>181500</td>\n",
       "    </tr>\n",
       "    <tr>\n",
       "      <th>2</th>\n",
       "      <td>7</td>\n",
       "      <td>1786</td>\n",
       "      <td>2</td>\n",
       "      <td>608</td>\n",
       "      <td>2</td>\n",
       "      <td>2</td>\n",
       "      <td>2</td>\n",
       "      <td>2</td>\n",
       "      <td>1</td>\n",
       "      <td>223500</td>\n",
       "    </tr>\n",
       "    <tr>\n",
       "      <th>3</th>\n",
       "      <td>7</td>\n",
       "      <td>1717</td>\n",
       "      <td>3</td>\n",
       "      <td>642</td>\n",
       "      <td>3</td>\n",
       "      <td>4</td>\n",
       "      <td>2</td>\n",
       "      <td>3</td>\n",
       "      <td>5</td>\n",
       "      <td>140000</td>\n",
       "    </tr>\n",
       "    <tr>\n",
       "      <th>4</th>\n",
       "      <td>8</td>\n",
       "      <td>2198</td>\n",
       "      <td>3</td>\n",
       "      <td>836</td>\n",
       "      <td>2</td>\n",
       "      <td>2</td>\n",
       "      <td>2</td>\n",
       "      <td>2</td>\n",
       "      <td>1</td>\n",
       "      <td>250000</td>\n",
       "    </tr>\n",
       "  </tbody>\n",
       "</table>\n",
       "</div>"
      ],
      "text/plain": [
       "   OverallQual  GrLivArea  GarageCars  GarageArea  ExterQual  BsmtQual  \\\n",
       "0            7       1710           2         548          2         2   \n",
       "1            6       1262           2         460          3         2   \n",
       "2            7       1786           2         608          2         2   \n",
       "3            7       1717           3         642          3         4   \n",
       "4            8       2198           3         836          2         2   \n",
       "\n",
       "   KitchenQual  GarageFinish  GarageType  SalePrice  \n",
       "0            2             2           1     208500  \n",
       "1            3             2           1     181500  \n",
       "2            2             2           1     223500  \n",
       "3            2             3           5     140000  \n",
       "4            2             2           1     250000  "
      ]
     },
     "execution_count": 12,
     "metadata": {},
     "output_type": "execute_result"
    }
   ],
   "source": [
    "# Load processed data\n",
    "data_path = '../../data/processed/processed_train.csv'\n",
    "df = pd.read_csv(data_path)\n",
    "print(f\"Data shape: {df.shape}\")\n",
    "df.head()"
   ]
  },
  {
   "cell_type": "code",
   "execution_count": 13,
   "id": "aab0eca4",
   "metadata": {},
   "outputs": [
    {
     "name": "stdout",
     "output_type": "stream",
     "text": [
      "Train shape: (1168, 9)\n",
      "Test shape: (292, 9)\n"
     ]
    }
   ],
   "source": [
    "X = df.drop('SalePrice', axis=1)\n",
    "y = df['SalePrice']\n",
    "\n",
    "# Train/test split\n",
    "X_train, X_test, y_train, y_test = train_test_split(\n",
    "    X, y, test_size=0.2, random_state=42\n",
    ")\n",
    "\n",
    "print(f\"Train shape: {X_train.shape}\")\n",
    "print(f\"Test shape: {X_test.shape}\")\n"
   ]
  },
  {
   "cell_type": "code",
   "execution_count": 14,
   "id": "e4fab3b4",
   "metadata": {},
   "outputs": [],
   "source": [
    "def train_and_log_model(n_estimators, max_depth, learning_rate):\n",
    "    with mlflow.start_run():\n",
    "        model = xgb.XGBRegressor(\n",
    "            n_estimators=n_estimators,\n",
    "            max_depth=max_depth,\n",
    "            learning_rate=learning_rate,\n",
    "            random_state=42\n",
    "        )\n",
    "        model.fit(X_train, y_train)\n",
    "\n",
    "        # Predictions\n",
    "        preds = model.predict(X_test)\n",
    "        r2 = r2_score(y_test, preds)\n",
    "        rmse = mean_squared_error(y_test, preds, squared=False)\n",
    "\n",
    "        # Log parameters and metrics\n",
    "        mlflow.log_param(\"n_estimators\", n_estimators)\n",
    "        mlflow.log_param(\"max_depth\", max_depth)\n",
    "        mlflow.log_param(\"learning_rate\", learning_rate)\n",
    "        mlflow.log_metric(\"r2\", r2)\n",
    "        mlflow.log_metric(\"rmse\", rmse)\n",
    "\n",
    "       # Save model to file\n",
    "        model_file = f\"../../ml/models/xgb_model_{n_estimators}_{max_depth}_{learning_rate}.pkl\"\n",
    "        joblib.dump(model, model_file)\n",
    "        print(f\"Saved model locally to {model_file}\")\n",
    "\n",
    "        # Log the path to MLflow as a param or tag\n",
    "        mlflow.log_param(\"model_path\", model_file)\n",
    "\n",
    "        print(f\"Logged Model - R2: {r2:.4f}, RMSE: {rmse:.2f}\")\n",
    "        return model"
   ]
  },
  {
   "cell_type": "code",
   "execution_count": 15,
   "id": "1c1bce01",
   "metadata": {},
   "outputs": [
    {
     "name": "stdout",
     "output_type": "stream",
     "text": [
      "Training and Logging Model 1...\n"
     ]
    },
    {
     "name": "stderr",
     "output_type": "stream",
     "text": [
      "c:\\Python311\\Lib\\site-packages\\sklearn\\metrics\\_regression.py:492: FutureWarning: 'squared' is deprecated in version 1.4 and will be removed in 1.6. To calculate the root mean squared error, use the function'root_mean_squared_error'.\n",
      "  warnings.warn(\n"
     ]
    },
    {
     "name": "stdout",
     "output_type": "stream",
     "text": [
      "Saved model locally to ../../ml/models/xgb_model_100_5_0.1.pkl\n",
      "Logged Model - R2: 0.8510, RMSE: 33809.81\n",
      "🏃 View run nervous-snail-856 at: https://dagshub.com/AntoineD01/House-prediction.mlflow/#/experiments/0/runs/f791707cbc304af9a0f2a1f037248084\n",
      "🧪 View experiment at: https://dagshub.com/AntoineD01/House-prediction.mlflow/#/experiments/0\n"
     ]
    }
   ],
   "source": [
    "print(\"Training and Logging Model 1...\")\n",
    "model_1 = train_and_log_model(\n",
    "    n_estimators=100,\n",
    "    max_depth=5,\n",
    "    learning_rate=0.1\n",
    ")"
   ]
  },
  {
   "cell_type": "code",
   "execution_count": 16,
   "id": "43bf79cf",
   "metadata": {},
   "outputs": [
    {
     "name": "stdout",
     "output_type": "stream",
     "text": [
      "Training and Logging Model 2...\n"
     ]
    },
    {
     "name": "stderr",
     "output_type": "stream",
     "text": [
      "c:\\Python311\\Lib\\site-packages\\sklearn\\metrics\\_regression.py:492: FutureWarning: 'squared' is deprecated in version 1.4 and will be removed in 1.6. To calculate the root mean squared error, use the function'root_mean_squared_error'.\n",
      "  warnings.warn(\n"
     ]
    },
    {
     "name": "stdout",
     "output_type": "stream",
     "text": [
      "Saved model locally to ../../ml/models/xgb_model_200_8_0.05.pkl\n",
      "Logged Model - R2: 0.8375, RMSE: 35303.56\n",
      "🏃 View run nervous-grub-926 at: https://dagshub.com/AntoineD01/House-prediction.mlflow/#/experiments/0/runs/0a0294c2c44c42f696507c639355ca31\n",
      "🧪 View experiment at: https://dagshub.com/AntoineD01/House-prediction.mlflow/#/experiments/0\n"
     ]
    }
   ],
   "source": [
    "print(\"Training and Logging Model 2...\")\n",
    "model_2 = train_and_log_model(\n",
    "    n_estimators=200,\n",
    "    max_depth=8,\n",
    "    learning_rate=0.05\n",
    ")"
   ]
  },
  {
   "cell_type": "code",
   "execution_count": 17,
   "id": "5a481bf6",
   "metadata": {},
   "outputs": [
    {
     "name": "stdout",
     "output_type": "stream",
     "text": [
      "Saved new feature_columns.json!\n"
     ]
    }
   ],
   "source": [
    "import json\n",
    "\n",
    "feature_columns = [col for col in df.columns if col != 'SalePrice']\n",
    "with open(r'C:\\Users\\Antoine Dupont\\Pictures\\House-Prediction\\ml\\models\\feature_columns.json', 'w') as f:\n",
    "    json.dump(feature_columns, f)\n",
    "\n",
    "print(\"Saved new feature_columns.json!\")\n"
   ]
  }
 ],
 "metadata": {
  "kernelspec": {
   "display_name": "Python 3",
   "language": "python",
   "name": "python3"
  },
  "language_info": {
   "codemirror_mode": {
    "name": "ipython",
    "version": 3
   },
   "file_extension": ".py",
   "mimetype": "text/x-python",
   "name": "python",
   "nbconvert_exporter": "python",
   "pygments_lexer": "ipython3",
   "version": "3.11.2"
  }
 },
 "nbformat": 4,
 "nbformat_minor": 5
}
